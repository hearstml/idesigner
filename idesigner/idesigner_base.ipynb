{
 "cells": [
  {
   "cell_type": "code",
   "execution_count": 1,
   "metadata": {},
   "outputs": [],
   "source": [
    "import pandas as pd "
   ]
  },
  {
   "cell_type": "code",
   "execution_count": 5,
   "metadata": {},
   "outputs": [],
   "source": [
    "import os \n",
    "import glob"
   ]
  },
  {
   "cell_type": "code",
   "execution_count": 11,
   "metadata": {},
   "outputs": [],
   "source": [
    "li = glob.glob('run*')"
   ]
  },
  {
   "cell_type": "code",
   "execution_count": 19,
   "metadata": {},
   "outputs": [
    {
     "name": "stderr",
     "output_type": "stream",
     "text": [
      "/Users/hhan/anaconda3/lib/python3.6/site-packages/IPython/core/interactiveshell.py:2785: DtypeWarning: Columns (0) have mixed types. Specify dtype option on import or set low_memory=False.\n",
      "  interactivity=interactivity, compiler=compiler, result=result)\n"
     ]
    }
   ],
   "source": [
    "dfs = [ ]\n",
    "columns = [\"id\", \"file_name\", \"event\", \"headline\", \"date\", \"designer\", \"title\", \"city\", \"creator\"]\n",
    "for i in li:\n",
    "    dfs.append(pd.read_csv(i, names=columns))\n",
    "    "
   ]
  },
  {
   "cell_type": "code",
   "execution_count": 20,
   "metadata": {},
   "outputs": [],
   "source": [
    "df = pd.concat(dfs)"
   ]
  },
  {
   "cell_type": "code",
   "execution_count": 40,
   "metadata": {},
   "outputs": [],
   "source": [
    "df = df[1:]\n",
    "df[\"designer\"] = df[\"designer\"].str.lower()"
   ]
  },
  {
   "cell_type": "code",
   "execution_count": null,
   "metadata": {},
   "outputs": [],
   "source": []
  },
  {
   "cell_type": "code",
   "execution_count": 47,
   "metadata": {},
   "outputs": [],
   "source": [
    "final = df[[\"id\", \"file_name\", \"headline\", \"designer\"]].dropna(subset=[\"designer\"])"
   ]
  },
  {
   "cell_type": "code",
   "execution_count": 52,
   "metadata": {},
   "outputs": [],
   "source": [
    "top_50 = final.groupby(\"designer\").count().reset_index().sort_values(\"id\", ascending=False)[:50]"
   ]
  },
  {
   "cell_type": "code",
   "execution_count": 56,
   "metadata": {},
   "outputs": [],
   "source": [
    "top_50_list = set(list(top_50[\"designer\"]))"
   ]
  },
  {
   "cell_type": "code",
   "execution_count": 59,
   "metadata": {},
   "outputs": [],
   "source": [
    "res_df = final[final.designer.apply(lambda x: x in top_50_list)]"
   ]
  },
  {
   "cell_type": "code",
   "execution_count": 63,
   "metadata": {},
   "outputs": [],
   "source": [
    "sample_50k = res_df.groupby(\"designer\").head(1000)"
   ]
  },
  {
   "cell_type": "code",
   "execution_count": 66,
   "metadata": {},
   "outputs": [
    {
     "name": "stderr",
     "output_type": "stream",
     "text": [
      "/Users/hhan/anaconda3/lib/python3.6/site-packages/ipykernel_launcher.py:1: SettingWithCopyWarning: \n",
      "A value is trying to be set on a copy of a slice from a DataFrame.\n",
      "Try using .loc[row_indexer,col_indexer] = value instead\n",
      "\n",
      "See the caveats in the documentation: http://pandas.pydata.org/pandas-docs/stable/indexing.html#indexing-view-versus-copy\n",
      "  \"\"\"Entry point for launching an IPython kernel.\n"
     ]
    }
   ],
   "source": [
    "sample_50k[\"file_name\"] = sample_50k[\"file_name\"].apply(lambda x: \"\".join(x.split(\".\")[:-1]) + \".png\" )"
   ]
  },
  {
   "cell_type": "code",
   "execution_count": 71,
   "metadata": {},
   "outputs": [],
   "source": [
    "sample_50k = sample_50k[[\"file_name\", \"designer\"]]"
   ]
  },
  {
   "cell_type": "code",
   "execution_count": 79,
   "metadata": {},
   "outputs": [],
   "source": [
    "import os, sys\n",
    "import pandas as pd \n",
    "from shutil import copyfile\n",
    "\n",
    "sample_50k = pd.read_csv(\"sample_files.csv\") \n",
    "image_dir = \"/data/hao/designer_image\"\n",
    "origin_image_dir = \"/data/hao/magazine\"\n",
    "\n",
    "if not os.path.exists(image_dir):\n",
    "    os.makedirs(image_dir)\n",
    "    \n",
    "for designer in set(sample_50k[\"designer\"]):\n",
    "    sub_df = sample_50k[sample_50k[\"designer\"] == designer][\"file_name\"]\n",
    "    image_brand_dir = os.path.join(image_dir, designer)\n",
    "    if not os.path.exists(image_brand_dir):\n",
    "        os.makedirs(image_brand_dir)\n",
    "    for image_path in sub_df:\n",
    "        origin_image = os.path.join(origin_image_dir, image_path)\n",
    "        image_path_all = os.path.join(image_brand_dir, image_path)\n",
    "        print (origin_image)\n",
    "        print (image_path_all)\n",
    "        try:\n",
    "            copyfile(origin_image, image_path_all)\n",
    "        except:\n",
    "            print (origin_image, \" not found\")"
   ]
  },
  {
   "cell_type": "code",
   "execution_count": 81,
   "metadata": {},
   "outputs": [],
   "source": [
    "sample_50k.to_csv(\"sample_files.csv\", index=False) \n"
   ]
  },
  {
   "cell_type": "code",
   "execution_count": null,
   "metadata": {},
   "outputs": [],
   "source": []
  }
 ],
 "metadata": {
  "kernelspec": {
   "display_name": "Python 3",
   "language": "python",
   "name": "python3"
  },
  "language_info": {
   "codemirror_mode": {
    "name": "ipython",
    "version": 3
   },
   "file_extension": ".py",
   "mimetype": "text/x-python",
   "name": "python",
   "nbconvert_exporter": "python",
   "pygments_lexer": "ipython3",
   "version": "3.6.5"
  }
 },
 "nbformat": 4,
 "nbformat_minor": 2
}
